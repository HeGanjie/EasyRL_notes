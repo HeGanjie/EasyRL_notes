{
  "nbformat": 4,
  "nbformat_minor": 0,
  "metadata": {
    "colab": {
      "name": "EasyRL note1.ipynb",
      "provenance": [],
      "collapsed_sections": [],
      "authorship_tag": "ABX9TyOSwxc8dNs/MQjtoIHQEwVH",
      "include_colab_link": true
    },
    "kernelspec": {
      "name": "python3",
      "display_name": "Python 3"
    },
    "language_info": {
      "name": "python"
    }
  },
  "cells": [
    {
      "cell_type": "markdown",
      "metadata": {
        "id": "view-in-github",
        "colab_type": "text"
      },
      "source": [
        "<a href=\"https://colab.research.google.com/github/HeGanjie/EasyRL_notes/blob/main/EasyRL_note1.ipynb\" target=\"_parent\"><img src=\"https://colab.research.google.com/assets/colab-badge.svg\" alt=\"Open In Colab\"/></a>"
      ]
    },
    {
      "cell_type": "markdown",
      "source": [
        "第一章简单总结：\n",
        "\n",
        "Action、State、Reward 等概念是为了训练方便而做的量化操作\n",
        "\n",
        "what：增强学习就是让智能体获得收益最大化的算法\n",
        "\n",
        "how: 通过合理地训练价值函数、策略网络或模型，控制智能体的行为\n",
        "\n",
        "why 不适用监督学习：是因为环境是可变的，奖励是延迟获得的\n",
        "\n",
        "需要注意的点：\n",
        "1. 连续的动作空间，不适合用价值函数\n",
        "2. 模型相当于智能体的想象力，可以利用它从而缓解训练数据匮乏问题；但是泛化能力更差\n",
        "\n",
        "\n",
        "下面是用 colab 使用 gym 库 运行 1.7.2 MountainCar-v0 例子并录制视频的 demo:\n",
        "\n",
        "\n",
        "\n"
      ],
      "metadata": {
        "id": "32rM0Vr526VY"
      }
    },
    {
      "cell_type": "code",
      "source": [
        "# install dependencies needed for recording videos\n",
        "!apt-get install -y xvfb x11-utils\n",
        "!pip install pyvirtualdisplay==0.2.*"
      ],
      "metadata": {
        "id": "_oWCuyV37MZH"
      },
      "execution_count": null,
      "outputs": []
    },
    {
      "cell_type": "code",
      "execution_count": null,
      "metadata": {
        "id": "imdUOfAfhbKK"
      },
      "outputs": [],
      "source": [
        "!pip install gym\n",
        "!pip install numpy"
      ]
    },
    {
      "cell_type": "code",
      "source": [
        "from pyvirtualdisplay import Display\n",
        "display = Display(visible=False, size=(1400, 900))\n",
        "_ = display.start()"
      ],
      "metadata": {
        "id": "K1iqDKD67V6N"
      },
      "execution_count": null,
      "outputs": []
    },
    {
      "cell_type": "code",
      "source": [
        "import gym\n",
        "# env = gym.make(\"CartPole-v0\")\n",
        "env = gym.make('MountainCar-v0')\n",
        "print('观测空间 = {}'.format(env.observation_space))\n",
        "print('动作空间 = {}'.format(env.action_space))\n",
        "print('观测范围 = {} ~ {}'.format(env.observation_space.low,\n",
        "        env.observation_space.high))\n",
        "print('动作数 = {}'.format(env.action_space.n))"
      ],
      "metadata": {
        "id": "NeQNtU6h4iaf",
        "colab": {
          "base_uri": "https://localhost:8080/"
        },
        "outputId": "7db5dc37-267b-4b71-eac7-8bda9a706c64"
      },
      "execution_count": null,
      "outputs": [
        {
          "output_type": "stream",
          "name": "stdout",
          "text": [
            "观测空间 = Box(-1.2000000476837158, 0.6000000238418579, (2,), float32)\n",
            "动作空间 = Discrete(3)\n",
            "观测范围 = [-1.2  -0.07] ~ [0.6  0.07]\n",
            "动作数 = 3\n"
          ]
        }
      ]
    },
    {
      "cell_type": "code",
      "source": [
        "from gym.wrappers.monitoring.video_recorder import VideoRecorder\n",
        "before_training = \"before_training.mp4\"\n",
        "\n",
        "video = VideoRecorder(env, before_training)"
      ],
      "metadata": {
        "id": "NLATCrxtDNfI"
      },
      "execution_count": null,
      "outputs": []
    },
    {
      "cell_type": "code",
      "source": [
        "class BespokeAgent:\n",
        "    def __init__(self, env):\n",
        "        pass\n",
        "    \n",
        "    def decide(self, observation): # 决策\n",
        "        position, velocity = observation\n",
        "        lb = min(-0.09 * (position + 0.25) ** 2 + 0.03,\n",
        "                0.3 * (position + 0.9) ** 4 - 0.008)\n",
        "        ub = -0.07 * (position + 0.38) ** 2 + 0.07\n",
        "        if lb < velocity < ub:\n",
        "            action = 2\n",
        "        else:\n",
        "            action = 0\n",
        "        return action # 返回动作\n",
        "\n",
        "    def learn(self, *args): # 学习\n",
        "        pass\n",
        "    \n",
        "agent = BespokeAgent(env)"
      ],
      "metadata": {
        "id": "lDk8jQHuCjCq"
      },
      "execution_count": null,
      "outputs": []
    },
    {
      "cell_type": "code",
      "source": [
        "def play_montecarlo(env, agent, render=False, train=False):\n",
        "    episode_reward = 0. # 记录回合总奖励，初始化为0\n",
        "    observation = env.reset() # 重置游戏环境，开始新回合\n",
        "    while True: # 不断循环，直到回合结束\n",
        "        if render: # 判断是否显示\n",
        "            env.render() # 显示图形界面，图形界面可以用 env.close() 语句关闭\n",
        "            video.capture_frame()\n",
        "        action = agent.decide(observation)\n",
        "        next_observation, reward, done, _ = env.step(action) # 执行动作\n",
        "        episode_reward += reward # 收集回合奖励\n",
        "        if train: # 判断是否训练智能体\n",
        "            agent.learn(observation, action, reward, done) # 学习\n",
        "        if done: # 回合结束，跳出循环\n",
        "            break\n",
        "        observation = next_observation\n",
        "    return episode_reward # 返回回合总奖励"
      ],
      "metadata": {
        "id": "URVkshcfCmwa"
      },
      "execution_count": null,
      "outputs": []
    },
    {
      "cell_type": "code",
      "source": [
        "import numpy as np\n",
        "\n",
        "env.seed(0) # 设置随机数种子,只是为了让结果可以精确复现,一般情况下可删去\n",
        "episode_reward = play_montecarlo(env, agent, render=True)\n",
        "print('回合奖励 = {}'.format(episode_reward))\n",
        "\n",
        "# episode_rewards = [play_montecarlo(env, agent) for _ in range(100)]\n",
        "# print('平均回合奖励 = {}'.format(np.mean(episode_rewards))) # 小车上山环境有一个参考的回合奖励值 −−110，如果连续 100 个回合的平均回合奖励大于 −−110，则认为这个任务被解决了\n",
        "\n",
        "video.close()\n",
        "env.close() # 此语句可关闭图形界面"
      ],
      "metadata": {
        "colab": {
          "base_uri": "https://localhost:8080/"
        },
        "id": "w85U2OspCsWn",
        "outputId": "34635a41-3494-419b-ad40-021849760d21"
      },
      "execution_count": null,
      "outputs": [
        {
          "output_type": "stream",
          "name": "stdout",
          "text": [
            "回合奖励 = -105.0\n"
          ]
        }
      ]
    },
    {
      "cell_type": "code",
      "source": [
        "from base64 import b64encode\n",
        "def render_mp4(videopath: str) -> str:\n",
        "  \"\"\"\n",
        "  Gets a string containing a b4-encoded version of the MP4 video\n",
        "  at the specified path.\n",
        "  \"\"\"\n",
        "  mp4 = open(videopath, 'rb').read()\n",
        "  base64_encoded_mp4 = b64encode(mp4).decode()\n",
        "  return f'<video width=400 controls><source src=\"data:video/mp4;' \\\n",
        "         f'base64,{base64_encoded_mp4}\" type=\"video/mp4\"></video>'"
      ],
      "metadata": {
        "id": "8nzhnqJu73_W"
      },
      "execution_count": null,
      "outputs": []
    },
    {
      "cell_type": "code",
      "source": [
        "from IPython.display import HTML\n",
        "html = render_mp4(before_training)\n",
        "HTML(html)"
      ],
      "metadata": {
        "colab": {
          "base_uri": "https://localhost:8080/",
          "height": 287
        },
        "id": "eoRAkHN578qT",
        "outputId": "5ed9ec78-a1a1-441d-83a4-7901326c0170"
      },
      "execution_count": null,
      "outputs": [
        {
          "output_type": "execute_result",
          "data": {
            "text/plain": [
              "<IPython.core.display.HTML object>"
            ],
            "text/html": [
              "<video width=400 controls><source src=\"data:video/mp4;base64,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\" type=\"video/mp4\"></video>"
            ]
          },
          "metadata": {},
          "execution_count": 15
        }
      ]
    },
    {
      "cell_type": "markdown",
      "source": [
        "参考文献：\n",
        "1. [EasyRL 第一章](https://datawhalechina.github.io/easy-rl/#/chapter1/chapter1)\n",
        "2. [如何在 colab 上查看 gym 渲染结果](https://www.anyscale.com/blog/an-introduction-to-reinforcement-learning-with-openai-gym-rllib-and-google)\n"
      ],
      "metadata": {
        "id": "nXmOjwmkHx3x"
      }
    }
  ]
}